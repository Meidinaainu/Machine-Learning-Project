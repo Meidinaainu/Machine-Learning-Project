{
  "cells": [
    {
      "cell_type": "code",
      "execution_count": null,
      "metadata": {
        "id": "sjhFzaUOQ6v1"
      },
      "outputs": [],
      "source": [
        "import tensorflow as tf\n",
        "from tensorflow import keras\n",
        "from tensorflow.keras import layers"
      ]
    },
    {
      "cell_type": "code",
      "execution_count": null,
      "metadata": {
        "colab": {
          "base_uri": "https://localhost:8080/",
          "height": 73
        },
        "id": "0SlfC3my9Yip",
        "outputId": "16751145-2af0-4480-9869-3dad248126c2"
      },
      "outputs": [
        {
          "output_type": "display_data",
          "data": {
            "text/plain": [
              "<IPython.core.display.HTML object>"
            ],
            "text/html": [
              "\n",
              "     <input type=\"file\" id=\"files-93f26362-2daf-4237-9750-6a2874ea9373\" name=\"files[]\" multiple disabled\n",
              "        style=\"border:none\" />\n",
              "     <output id=\"result-93f26362-2daf-4237-9750-6a2874ea9373\">\n",
              "      Upload widget is only available when the cell has been executed in the\n",
              "      current browser session. Please rerun this cell to enable.\n",
              "      </output>\n",
              "      <script>// Copyright 2017 Google LLC\n",
              "//\n",
              "// Licensed under the Apache License, Version 2.0 (the \"License\");\n",
              "// you may not use this file except in compliance with the License.\n",
              "// You may obtain a copy of the License at\n",
              "//\n",
              "//      http://www.apache.org/licenses/LICENSE-2.0\n",
              "//\n",
              "// Unless required by applicable law or agreed to in writing, software\n",
              "// distributed under the License is distributed on an \"AS IS\" BASIS,\n",
              "// WITHOUT WARRANTIES OR CONDITIONS OF ANY KIND, either express or implied.\n",
              "// See the License for the specific language governing permissions and\n",
              "// limitations under the License.\n",
              "\n",
              "/**\n",
              " * @fileoverview Helpers for google.colab Python module.\n",
              " */\n",
              "(function(scope) {\n",
              "function span(text, styleAttributes = {}) {\n",
              "  const element = document.createElement('span');\n",
              "  element.textContent = text;\n",
              "  for (const key of Object.keys(styleAttributes)) {\n",
              "    element.style[key] = styleAttributes[key];\n",
              "  }\n",
              "  return element;\n",
              "}\n",
              "\n",
              "// Max number of bytes which will be uploaded at a time.\n",
              "const MAX_PAYLOAD_SIZE = 100 * 1024;\n",
              "\n",
              "function _uploadFiles(inputId, outputId) {\n",
              "  const steps = uploadFilesStep(inputId, outputId);\n",
              "  const outputElement = document.getElementById(outputId);\n",
              "  // Cache steps on the outputElement to make it available for the next call\n",
              "  // to uploadFilesContinue from Python.\n",
              "  outputElement.steps = steps;\n",
              "\n",
              "  return _uploadFilesContinue(outputId);\n",
              "}\n",
              "\n",
              "// This is roughly an async generator (not supported in the browser yet),\n",
              "// where there are multiple asynchronous steps and the Python side is going\n",
              "// to poll for completion of each step.\n",
              "// This uses a Promise to block the python side on completion of each step,\n",
              "// then passes the result of the previous step as the input to the next step.\n",
              "function _uploadFilesContinue(outputId) {\n",
              "  const outputElement = document.getElementById(outputId);\n",
              "  const steps = outputElement.steps;\n",
              "\n",
              "  const next = steps.next(outputElement.lastPromiseValue);\n",
              "  return Promise.resolve(next.value.promise).then((value) => {\n",
              "    // Cache the last promise value to make it available to the next\n",
              "    // step of the generator.\n",
              "    outputElement.lastPromiseValue = value;\n",
              "    return next.value.response;\n",
              "  });\n",
              "}\n",
              "\n",
              "/**\n",
              " * Generator function which is called between each async step of the upload\n",
              " * process.\n",
              " * @param {string} inputId Element ID of the input file picker element.\n",
              " * @param {string} outputId Element ID of the output display.\n",
              " * @return {!Iterable<!Object>} Iterable of next steps.\n",
              " */\n",
              "function* uploadFilesStep(inputId, outputId) {\n",
              "  const inputElement = document.getElementById(inputId);\n",
              "  inputElement.disabled = false;\n",
              "\n",
              "  const outputElement = document.getElementById(outputId);\n",
              "  outputElement.innerHTML = '';\n",
              "\n",
              "  const pickedPromise = new Promise((resolve) => {\n",
              "    inputElement.addEventListener('change', (e) => {\n",
              "      resolve(e.target.files);\n",
              "    });\n",
              "  });\n",
              "\n",
              "  const cancel = document.createElement('button');\n",
              "  inputElement.parentElement.appendChild(cancel);\n",
              "  cancel.textContent = 'Cancel upload';\n",
              "  const cancelPromise = new Promise((resolve) => {\n",
              "    cancel.onclick = () => {\n",
              "      resolve(null);\n",
              "    };\n",
              "  });\n",
              "\n",
              "  // Wait for the user to pick the files.\n",
              "  const files = yield {\n",
              "    promise: Promise.race([pickedPromise, cancelPromise]),\n",
              "    response: {\n",
              "      action: 'starting',\n",
              "    }\n",
              "  };\n",
              "\n",
              "  cancel.remove();\n",
              "\n",
              "  // Disable the input element since further picks are not allowed.\n",
              "  inputElement.disabled = true;\n",
              "\n",
              "  if (!files) {\n",
              "    return {\n",
              "      response: {\n",
              "        action: 'complete',\n",
              "      }\n",
              "    };\n",
              "  }\n",
              "\n",
              "  for (const file of files) {\n",
              "    const li = document.createElement('li');\n",
              "    li.append(span(file.name, {fontWeight: 'bold'}));\n",
              "    li.append(span(\n",
              "        `(${file.type || 'n/a'}) - ${file.size} bytes, ` +\n",
              "        `last modified: ${\n",
              "            file.lastModifiedDate ? file.lastModifiedDate.toLocaleDateString() :\n",
              "                                    'n/a'} - `));\n",
              "    const percent = span('0% done');\n",
              "    li.appendChild(percent);\n",
              "\n",
              "    outputElement.appendChild(li);\n",
              "\n",
              "    const fileDataPromise = new Promise((resolve) => {\n",
              "      const reader = new FileReader();\n",
              "      reader.onload = (e) => {\n",
              "        resolve(e.target.result);\n",
              "      };\n",
              "      reader.readAsArrayBuffer(file);\n",
              "    });\n",
              "    // Wait for the data to be ready.\n",
              "    let fileData = yield {\n",
              "      promise: fileDataPromise,\n",
              "      response: {\n",
              "        action: 'continue',\n",
              "      }\n",
              "    };\n",
              "\n",
              "    // Use a chunked sending to avoid message size limits. See b/62115660.\n",
              "    let position = 0;\n",
              "    do {\n",
              "      const length = Math.min(fileData.byteLength - position, MAX_PAYLOAD_SIZE);\n",
              "      const chunk = new Uint8Array(fileData, position, length);\n",
              "      position += length;\n",
              "\n",
              "      const base64 = btoa(String.fromCharCode.apply(null, chunk));\n",
              "      yield {\n",
              "        response: {\n",
              "          action: 'append',\n",
              "          file: file.name,\n",
              "          data: base64,\n",
              "        },\n",
              "      };\n",
              "\n",
              "      let percentDone = fileData.byteLength === 0 ?\n",
              "          100 :\n",
              "          Math.round((position / fileData.byteLength) * 100);\n",
              "      percent.textContent = `${percentDone}% done`;\n",
              "\n",
              "    } while (position < fileData.byteLength);\n",
              "  }\n",
              "\n",
              "  // All done.\n",
              "  yield {\n",
              "    response: {\n",
              "      action: 'complete',\n",
              "    }\n",
              "  };\n",
              "}\n",
              "\n",
              "scope.google = scope.google || {};\n",
              "scope.google.colab = scope.google.colab || {};\n",
              "scope.google.colab._files = {\n",
              "  _uploadFiles,\n",
              "  _uploadFilesContinue,\n",
              "};\n",
              "})(self);\n",
              "</script> "
            ]
          },
          "metadata": {}
        },
        {
          "output_type": "stream",
          "name": "stdout",
          "text": [
            "Saving Dataset.xlsx to Dataset.xlsx\n"
          ]
        }
      ],
      "source": [
        "import pandas as pd\n",
        "from sklearn.preprocessing import LabelEncoder, StandardScaler\n",
        "import tensorflow as tf\n",
        "\n",
        "# Mengunggah file Excel\n",
        "from google.colab import files\n",
        "uploaded = files.upload()\n",
        "\n",
        "# Membaca dataset dari file Excel\n",
        "dataset = pd.read_excel('Dataset.xlsx')\n",
        "\n",
        "# Define numeric feature columns\n",
        "numeric_columns = ['Usia','Pertanyaan 1', 'Pertanyaan 2', 'Pertanyaan 3', 'Pertanyaan 4', 'Pertanyaan 5', 'Pertanyaan 6', 'Pertanyaan 7', 'Pertanyaan 8', 'Pertanyaan 9', 'Pertanyaan 10']\n",
        "numeric_feature_columns = []\n",
        "for column in numeric_columns:\n",
        "    scaler = StandardScaler()\n",
        "    dataset[column] = scaler.fit_transform(dataset[column].values.reshape(-1, 1))\n",
        "    numeric_feature_columns.append(tf.keras.layers.Input(shape=(1,), name=column))\n",
        "\n",
        "# Define categorical feature columns\n",
        "categorical_columns = ['Domisili', 'Status Pekerjaan']\n",
        "categorical_feature_columns = []\n",
        "for column in categorical_columns:\n",
        "    label_encoder = LabelEncoder()\n",
        "    dataset[column] = label_encoder.fit_transform(dataset[column].values)\n",
        "    num_classes = len(label_encoder.classes_)\n",
        "    categorical_feature_columns.append(tf.keras.layers.Input(shape=(1,), name=column, dtype=tf.int32))\n",
        "\n",
        "# Create the feature column list\n",
        "feature_columns = numeric_feature_columns + categorical_feature_columns\n",
        "\n",
        "# Convert x_train to TensorFlow dataset\n",
        "def input_fn(features, labels, batch_size=32, shuffle=True):\n",
        "    dataset = tf.data.Dataset.from_tensor_slices((dict(features), labels))\n",
        "    if shuffle:\n",
        "        dataset = dataset.shuffle(buffer_size=len(features))\n",
        "    dataset = dataset.batch(batch_size)\n",
        "    return dataset\n",
        "\n",
        "# Separate features and target variable\n",
        "x_train = dataset.drop('Indikasi', axis=1)\n",
        "y_train = dataset['Indikasi']\n",
        "\n",
        "train_input_fn = lambda: input_fn(x_train, y_train)\n",
        "train_dataset = train_input_fn()"
      ]
    },
    {
      "cell_type": "code",
      "execution_count": null,
      "metadata": {
        "colab": {
          "base_uri": "https://localhost:8080/"
        },
        "id": "P8Vz3UX59aHt",
        "outputId": "89cbd19f-54f4-4c46-eb2d-579d0ceb75bd"
      },
      "outputs": [
        {
          "output_type": "stream",
          "name": "stdout",
          "text": [
            "Example features: ['Usia', 'Domisili', 'Status Pekerjaan', 'Pertanyaan 1', 'Pertanyaan 2', 'Pertanyaan 3', 'Pertanyaan 4', 'Pertanyaan 5', 'Pertanyaan 6', 'Pertanyaan 7', 'Pertanyaan 8', 'Pertanyaan 9', 'Pertanyaan 10']\n",
            "Example numeric feature: tf.Tensor(\n",
            "[-0.1001278   0.22171155 -0.42196714 -1.06564582  2.79642629 -0.1001278\n",
            " -0.1001278  -0.1001278  -0.42196714 -0.74380648 -0.42196714 -0.42196714\n",
            "  0.54355089 -0.1001278  -0.1001278  -0.42196714  0.22171155 -0.42196714\n",
            " -0.42196714 -0.42196714 -0.1001278  -0.1001278  -0.1001278  -0.42196714\n",
            " -0.42196714 -0.1001278  -0.42196714  0.22171155 -0.1001278  -0.1001278\n",
            "  0.22171155  4.40562301], shape=(32,), dtype=float64)\n",
            "Example categorical feature: tf.Tensor(\n",
            "[ 2 23 50 27 36 38 43 17 39 13 48 27 46 50 49  4 11 44 13  5 35  4  8  4\n",
            " 36  5 40 45 39  2  2  2], shape=(32,), dtype=int64)\n",
            "Example label: tf.Tensor(\n",
            "[b'Stres Berat' b'Stres Sedang' b'Stres Sedang' b'Stres Sedang'\n",
            " b'Stres Ringan' b'Stres Ringan' b'Stres Berat' b'Stres Sedang'\n",
            " b'Stres Sedang' b'Stres Sedang' b'Stres Sedang' b'Stres Sedang'\n",
            " b'Stres Sedang' b'Stres Berat' b'Stres Sedang' b'Stres Sedang'\n",
            " b'Stres Sedang' b'Stres Sedang' b'Stres Berat' b'Stres Sedang'\n",
            " b'Stres Sedang' b'Stres Sedang' b'Stres Sedang' b'Stres Berat'\n",
            " b'Stres Sedang' b'Stres Berat' b'Stres Sedang' b'Stres Berat'\n",
            " b'Stres Sedang' b'Stres Sedang' b'Stres Sedang' b'Stres Sedang'], shape=(32,), dtype=string)\n"
          ]
        }
      ],
      "source": [
        "for feature_batch, label_batch in train_dataset.take(1):\n",
        "    print('Example features:', list(feature_batch.keys()))\n",
        "    print('Example numeric feature:', feature_batch['Usia'])\n",
        "    print('Example categorical feature:', feature_batch['Domisili'])\n",
        "    print('Example label:', label_batch)"
      ]
    },
    {
      "cell_type": "code",
      "execution_count": null,
      "metadata": {
        "colab": {
          "base_uri": "https://localhost:8080/",
          "height": 197
        },
        "id": "C6QniZhmRcu_",
        "outputId": "fb650f7f-cb1c-46fc-e694-b8474052ed58"
      },
      "outputs": [
        {
          "output_type": "display_data",
          "data": {
            "text/plain": [
              "<IPython.core.display.HTML object>"
            ],
            "text/html": [
              "\n",
              "     <input type=\"file\" id=\"files-627b44d5-9251-4404-bf92-1d52c8ac6e89\" name=\"files[]\" multiple disabled\n",
              "        style=\"border:none\" />\n",
              "     <output id=\"result-627b44d5-9251-4404-bf92-1d52c8ac6e89\">\n",
              "      Upload widget is only available when the cell has been executed in the\n",
              "      current browser session. Please rerun this cell to enable.\n",
              "      </output>\n",
              "      <script>// Copyright 2017 Google LLC\n",
              "//\n",
              "// Licensed under the Apache License, Version 2.0 (the \"License\");\n",
              "// you may not use this file except in compliance with the License.\n",
              "// You may obtain a copy of the License at\n",
              "//\n",
              "//      http://www.apache.org/licenses/LICENSE-2.0\n",
              "//\n",
              "// Unless required by applicable law or agreed to in writing, software\n",
              "// distributed under the License is distributed on an \"AS IS\" BASIS,\n",
              "// WITHOUT WARRANTIES OR CONDITIONS OF ANY KIND, either express or implied.\n",
              "// See the License for the specific language governing permissions and\n",
              "// limitations under the License.\n",
              "\n",
              "/**\n",
              " * @fileoverview Helpers for google.colab Python module.\n",
              " */\n",
              "(function(scope) {\n",
              "function span(text, styleAttributes = {}) {\n",
              "  const element = document.createElement('span');\n",
              "  element.textContent = text;\n",
              "  for (const key of Object.keys(styleAttributes)) {\n",
              "    element.style[key] = styleAttributes[key];\n",
              "  }\n",
              "  return element;\n",
              "}\n",
              "\n",
              "// Max number of bytes which will be uploaded at a time.\n",
              "const MAX_PAYLOAD_SIZE = 100 * 1024;\n",
              "\n",
              "function _uploadFiles(inputId, outputId) {\n",
              "  const steps = uploadFilesStep(inputId, outputId);\n",
              "  const outputElement = document.getElementById(outputId);\n",
              "  // Cache steps on the outputElement to make it available for the next call\n",
              "  // to uploadFilesContinue from Python.\n",
              "  outputElement.steps = steps;\n",
              "\n",
              "  return _uploadFilesContinue(outputId);\n",
              "}\n",
              "\n",
              "// This is roughly an async generator (not supported in the browser yet),\n",
              "// where there are multiple asynchronous steps and the Python side is going\n",
              "// to poll for completion of each step.\n",
              "// This uses a Promise to block the python side on completion of each step,\n",
              "// then passes the result of the previous step as the input to the next step.\n",
              "function _uploadFilesContinue(outputId) {\n",
              "  const outputElement = document.getElementById(outputId);\n",
              "  const steps = outputElement.steps;\n",
              "\n",
              "  const next = steps.next(outputElement.lastPromiseValue);\n",
              "  return Promise.resolve(next.value.promise).then((value) => {\n",
              "    // Cache the last promise value to make it available to the next\n",
              "    // step of the generator.\n",
              "    outputElement.lastPromiseValue = value;\n",
              "    return next.value.response;\n",
              "  });\n",
              "}\n",
              "\n",
              "/**\n",
              " * Generator function which is called between each async step of the upload\n",
              " * process.\n",
              " * @param {string} inputId Element ID of the input file picker element.\n",
              " * @param {string} outputId Element ID of the output display.\n",
              " * @return {!Iterable<!Object>} Iterable of next steps.\n",
              " */\n",
              "function* uploadFilesStep(inputId, outputId) {\n",
              "  const inputElement = document.getElementById(inputId);\n",
              "  inputElement.disabled = false;\n",
              "\n",
              "  const outputElement = document.getElementById(outputId);\n",
              "  outputElement.innerHTML = '';\n",
              "\n",
              "  const pickedPromise = new Promise((resolve) => {\n",
              "    inputElement.addEventListener('change', (e) => {\n",
              "      resolve(e.target.files);\n",
              "    });\n",
              "  });\n",
              "\n",
              "  const cancel = document.createElement('button');\n",
              "  inputElement.parentElement.appendChild(cancel);\n",
              "  cancel.textContent = 'Cancel upload';\n",
              "  const cancelPromise = new Promise((resolve) => {\n",
              "    cancel.onclick = () => {\n",
              "      resolve(null);\n",
              "    };\n",
              "  });\n",
              "\n",
              "  // Wait for the user to pick the files.\n",
              "  const files = yield {\n",
              "    promise: Promise.race([pickedPromise, cancelPromise]),\n",
              "    response: {\n",
              "      action: 'starting',\n",
              "    }\n",
              "  };\n",
              "\n",
              "  cancel.remove();\n",
              "\n",
              "  // Disable the input element since further picks are not allowed.\n",
              "  inputElement.disabled = true;\n",
              "\n",
              "  if (!files) {\n",
              "    return {\n",
              "      response: {\n",
              "        action: 'complete',\n",
              "      }\n",
              "    };\n",
              "  }\n",
              "\n",
              "  for (const file of files) {\n",
              "    const li = document.createElement('li');\n",
              "    li.append(span(file.name, {fontWeight: 'bold'}));\n",
              "    li.append(span(\n",
              "        `(${file.type || 'n/a'}) - ${file.size} bytes, ` +\n",
              "        `last modified: ${\n",
              "            file.lastModifiedDate ? file.lastModifiedDate.toLocaleDateString() :\n",
              "                                    'n/a'} - `));\n",
              "    const percent = span('0% done');\n",
              "    li.appendChild(percent);\n",
              "\n",
              "    outputElement.appendChild(li);\n",
              "\n",
              "    const fileDataPromise = new Promise((resolve) => {\n",
              "      const reader = new FileReader();\n",
              "      reader.onload = (e) => {\n",
              "        resolve(e.target.result);\n",
              "      };\n",
              "      reader.readAsArrayBuffer(file);\n",
              "    });\n",
              "    // Wait for the data to be ready.\n",
              "    let fileData = yield {\n",
              "      promise: fileDataPromise,\n",
              "      response: {\n",
              "        action: 'continue',\n",
              "      }\n",
              "    };\n",
              "\n",
              "    // Use a chunked sending to avoid message size limits. See b/62115660.\n",
              "    let position = 0;\n",
              "    do {\n",
              "      const length = Math.min(fileData.byteLength - position, MAX_PAYLOAD_SIZE);\n",
              "      const chunk = new Uint8Array(fileData, position, length);\n",
              "      position += length;\n",
              "\n",
              "      const base64 = btoa(String.fromCharCode.apply(null, chunk));\n",
              "      yield {\n",
              "        response: {\n",
              "          action: 'append',\n",
              "          file: file.name,\n",
              "          data: base64,\n",
              "        },\n",
              "      };\n",
              "\n",
              "      let percentDone = fileData.byteLength === 0 ?\n",
              "          100 :\n",
              "          Math.round((position / fileData.byteLength) * 100);\n",
              "      percent.textContent = `${percentDone}% done`;\n",
              "\n",
              "    } while (position < fileData.byteLength);\n",
              "  }\n",
              "\n",
              "  // All done.\n",
              "  yield {\n",
              "    response: {\n",
              "      action: 'complete',\n",
              "    }\n",
              "  };\n",
              "}\n",
              "\n",
              "scope.google = scope.google || {};\n",
              "scope.google.colab = scope.google.colab || {};\n",
              "scope.google.colab._files = {\n",
              "  _uploadFiles,\n",
              "  _uploadFilesContinue,\n",
              "};\n",
              "})(self);\n",
              "</script> "
            ]
          },
          "metadata": {}
        },
        {
          "output_type": "stream",
          "name": "stderr",
          "text": [
            "WARNING:tensorflow:From <ipython-input-4-017426da0752>:17: numeric_column (from tensorflow.python.feature_column.feature_column_v2) is deprecated and will be removed in a future version.\n",
            "Instructions for updating:\n",
            "Use Keras preprocessing layers instead, either directly or via the `tf.keras.utils.FeatureSpace` utility. Each of `tf.feature_column.*` has a functional equivalent in `tf.keras.layers` for feature preprocessing when training a Keras model.\n",
            "WARNING:tensorflow:From <ipython-input-4-017426da0752>:25: categorical_column_with_vocabulary_list (from tensorflow.python.feature_column.feature_column_v2) is deprecated and will be removed in a future version.\n",
            "Instructions for updating:\n",
            "Use Keras preprocessing layers instead, either directly or via the `tf.keras.utils.FeatureSpace` utility. Each of `tf.feature_column.*` has a functional equivalent in `tf.keras.layers` for feature preprocessing when training a Keras model.\n"
          ]
        },
        {
          "output_type": "stream",
          "name": "stdout",
          "text": [
            "Saving DataNew.xlsx to DataNew.xlsx\n"
          ]
        }
      ],
      "source": [
        "import tensorflow as tf\n",
        "from sklearn.preprocessing import LabelEncoder, StandardScaler\n",
        "\n",
        "# Mengunggah file Excel\n",
        "from google.colab import files\n",
        "uploaded = files.upload()\n",
        "\n",
        "# Membaca dataset dari file Excel\n",
        "dataset = pd.read_excel('DataNew.xlsx')\n",
        "\n",
        "# Define numeric feature columns\n",
        "numeric_columns = ['Usia','Pertanyaan 1', 'Pertanyaan 2', 'Pertanyaan 3', 'Pertanyaan 4', 'Pertanyaan 5', 'Pertanyaan 6', 'Pertanyaan 7', 'Pertanyaan 8', 'Pertanyaan 9', 'Pertanyaan 10']\n",
        "numeric_feature_columns = []\n",
        "for column in numeric_columns:\n",
        "    scaler = StandardScaler()\n",
        "    dataset[column] = scaler.fit_transform(dataset[column].values.reshape(-1, 1))\n",
        "    numeric_feature_columns.append(tf.feature_column.numeric_column(column))\n",
        "\n",
        "# Define categorical feature columns\n",
        "categorical_columns = ['Domisili', 'Status Pekerjaan']\n",
        "categorical_feature_columns = []\n",
        "for column in categorical_columns:\n",
        "    label_encoder = LabelEncoder()\n",
        "    dataset[column] = label_encoder.fit_transform(dataset[column].values)\n",
        "    categorical_feature_columns.append(tf.feature_column.categorical_column_with_vocabulary_list(column,\n",
        "                                                                                                  vocabulary_list=label_encoder.classes_))\n",
        "\n",
        "# Create the feature column list\n",
        "feature_columns = numeric_feature_columns + categorical_feature_columns\n",
        "\n",
        "# Convert x_train to TensorFlow dataset\n",
        "def input_fn(features, labels, batch_size=32, shuffle=True):\n",
        "    dataset = tf.data.Dataset.from_tensor_slices((dict(features), labels))\n",
        "    if shuffle:\n",
        "        dataset = dataset.shuffle(buffer_size=len(features))\n",
        "    dataset = dataset.batch(batch_size)\n",
        "    return dataset\n",
        "\n",
        "# Separate features and target variable\n",
        "x_test = dataset.drop('Indikasi', axis=1)\n",
        "y_test = dataset['Indikasi']\n",
        "\n",
        "test_input_fn = lambda: input_fn(x_test, y_test, shuffle=False)\n",
        "test_dataset = test_input_fn()"
      ]
    },
    {
      "cell_type": "code",
      "source": [
        "from sklearn.preprocessing import StandardScaler, OneHotEncoder, LabelEncoder\n",
        "from keras.utils import to_categorical\n",
        "import pandas as pd\n",
        "import numpy as np\n",
        "\n",
        "# Preprocess the numerical features\n",
        "scaler = StandardScaler()\n",
        "x_train_scaled = scaler.fit_transform(x_train)\n",
        "\n",
        "# Preprocess the categorical features using OneHotEncoder\n",
        "encoder = OneHotEncoder(sparse_output=False, handle_unknown='ignore')  # Updated parameter\n",
        "x_train_encoded = encoder.fit_transform(x_train[categorical_columns])\n",
        "\n",
        "# Combine numerical and encoded categorical features\n",
        "x_train_final = np.concatenate((x_train_scaled, x_train_encoded), axis=1)\n",
        "\n",
        "# Preprocess the categorical labels\n",
        "label_encoder = LabelEncoder()\n",
        "y_train_encoded = label_encoder.fit_transform(y_train)\n",
        "num_classes = len(label_encoder.classes_)\n",
        "y_train_one_hot = to_categorical(y_train_encoded, num_classes=num_classes)\n",
        "\n",
        "# Scale numerical features for test data\n",
        "x_test_scaled = scaler.transform(x_test)\n",
        "\n",
        "# Encode categorical features for test data using the same encoder\n",
        "x_test_encoded = encoder.transform(x_test[categorical_columns])\n",
        "\n",
        "# Combine numerical and encoded categorical features for test data\n",
        "x_test_final = np.concatenate((x_test_scaled, x_test_encoded), axis=1)\n",
        "\n",
        "# Preprocess the categorical labels for test data\n",
        "y_test_encoded = label_encoder.transform(y_test)  # Use the same label encoder\n",
        "y_test_one_hot = to_categorical(y_test_encoded, num_classes=num_classes)  # Convert to one-hot encoding"
      ],
      "metadata": {
        "id": "qax26kREt9sM"
      },
      "execution_count": null,
      "outputs": []
    },
    {
      "cell_type": "code",
      "execution_count": null,
      "metadata": {
        "id": "_PB9Hl0u9eCx",
        "colab": {
          "base_uri": "https://localhost:8080/"
        },
        "outputId": "d752b17e-14b4-4c6c-e771-90b3b05121d8"
      },
      "outputs": [
        {
          "output_type": "stream",
          "name": "stderr",
          "text": [
            "/usr/local/lib/python3.10/dist-packages/keras/src/layers/core/dense.py:87: UserWarning: Do not pass an `input_shape`/`input_dim` argument to a layer. When using Sequential models, prefer using an `Input(shape)` object as the first layer in the model instead.\n",
            "  super().__init__(activity_regularizer=activity_regularizer, **kwargs)\n"
          ]
        }
      ],
      "source": [
        "from tensorflow.keras import layers, models\n",
        "\n",
        "# Determine the largest input dimension between training and evaluation\n",
        "max_input_dim = max(x_train_final.shape[1], x_test_final.shape[1])\n",
        "\n",
        "# Adjust the input dimensions for training data\n",
        "x_train_final = np.pad(x_train_final, ((0, 0), (0, max_input_dim - x_train_final.shape[1])), mode='constant')\n",
        "\n",
        "# Adjust the input dimensions for evaluation data\n",
        "x_test_final = np.pad(x_test_final, ((0, 0), (0, max_input_dim - x_test_final.shape[1])), mode='constant')\n",
        "\n",
        "# Adjust the input dimensions in the model to match max_input_dim\n",
        "model = models.Sequential()\n",
        "model.add(layers.Dense(64, activation='relu', input_shape=(max_input_dim,)))  # Input layer dengan dimensi yang fleksibel\n",
        "model.add(layers.Dense(64, activation='relu'))  # Hidden layer\n",
        "model.add(layers.Dense(num_classes, activation='softmax')) # Output layer"
      ]
    },
    {
      "cell_type": "code",
      "execution_count": null,
      "metadata": {
        "colab": {
          "base_uri": "https://localhost:8080/"
        },
        "id": "mBmtTps79gQB",
        "outputId": "3da7f799-b6f2-4cee-903e-efa1d1cca6d0"
      },
      "outputs": [
        {
          "output_type": "stream",
          "name": "stdout",
          "text": [
            "Epoch 1/15\n"
          ]
        },
        {
          "output_type": "stream",
          "name": "stderr",
          "text": [
            "/usr/local/lib/python3.10/dist-packages/keras/src/backend/tensorflow/nn.py:593: UserWarning: \"`categorical_crossentropy` received `from_logits=True`, but the `output` argument was produced by a Softmax activation and thus does not represent logits. Was this intended?\n",
            "  output, from_logits = _get_logits(\n"
          ]
        },
        {
          "output_type": "stream",
          "name": "stdout",
          "text": [
            "\u001b[1m8/8\u001b[0m \u001b[32m━━━━━━━━━━━━━━━━━━━━\u001b[0m\u001b[37m\u001b[0m \u001b[1m1s\u001b[0m 2ms/step - accuracy: 0.4702 - loss: 1.0476\n",
            "Epoch 2/15\n",
            "\u001b[1m8/8\u001b[0m \u001b[32m━━━━━━━━━━━━━━━━━━━━\u001b[0m\u001b[37m\u001b[0m \u001b[1m0s\u001b[0m 2ms/step - accuracy: 0.6530 - loss: 0.8541 \n",
            "Epoch 3/15\n",
            "\u001b[1m8/8\u001b[0m \u001b[32m━━━━━━━━━━━━━━━━━━━━\u001b[0m\u001b[37m\u001b[0m \u001b[1m0s\u001b[0m 2ms/step - accuracy: 0.7362 - loss: 0.7130 \n",
            "Epoch 4/15\n",
            "\u001b[1m8/8\u001b[0m \u001b[32m━━━━━━━━━━━━━━━━━━━━\u001b[0m\u001b[37m\u001b[0m \u001b[1m0s\u001b[0m 2ms/step - accuracy: 0.8216 - loss: 0.5889 \n",
            "Epoch 5/15\n",
            "\u001b[1m8/8\u001b[0m \u001b[32m━━━━━━━━━━━━━━━━━━━━\u001b[0m\u001b[37m\u001b[0m \u001b[1m0s\u001b[0m 2ms/step - accuracy: 0.8355 - loss: 0.5263 \n",
            "Epoch 6/15\n",
            "\u001b[1m8/8\u001b[0m \u001b[32m━━━━━━━━━━━━━━━━━━━━\u001b[0m\u001b[37m\u001b[0m \u001b[1m0s\u001b[0m 2ms/step - accuracy: 0.8938 - loss: 0.4528 \n",
            "Epoch 7/15\n",
            "\u001b[1m8/8\u001b[0m \u001b[32m━━━━━━━━━━━━━━━━━━━━\u001b[0m\u001b[37m\u001b[0m \u001b[1m0s\u001b[0m 2ms/step - accuracy: 0.9163 - loss: 0.3940 \n",
            "Epoch 8/15\n",
            "\u001b[1m8/8\u001b[0m \u001b[32m━━━━━━━━━━━━━━━━━━━━\u001b[0m\u001b[37m\u001b[0m \u001b[1m0s\u001b[0m 2ms/step - accuracy: 0.9486 - loss: 0.3445 \n",
            "Epoch 9/15\n",
            "\u001b[1m8/8\u001b[0m \u001b[32m━━━━━━━━━━━━━━━━━━━━\u001b[0m\u001b[37m\u001b[0m \u001b[1m0s\u001b[0m 2ms/step - accuracy: 0.9338 - loss: 0.3079 \n",
            "Epoch 10/15\n",
            "\u001b[1m8/8\u001b[0m \u001b[32m━━━━━━━━━━━━━━━━━━━━\u001b[0m\u001b[37m\u001b[0m \u001b[1m0s\u001b[0m 3ms/step - accuracy: 0.9525 - loss: 0.2655 \n",
            "Epoch 11/15\n",
            "\u001b[1m8/8\u001b[0m \u001b[32m━━━━━━━━━━━━━━━━━━━━\u001b[0m\u001b[37m\u001b[0m \u001b[1m0s\u001b[0m 3ms/step - accuracy: 0.9650 - loss: 0.2331 \n",
            "Epoch 12/15\n",
            "\u001b[1m8/8\u001b[0m \u001b[32m━━━━━━━━━━━━━━━━━━━━\u001b[0m\u001b[37m\u001b[0m \u001b[1m0s\u001b[0m 4ms/step - accuracy: 0.9484 - loss: 0.2258 \n",
            "Epoch 13/15\n",
            "\u001b[1m8/8\u001b[0m \u001b[32m━━━━━━━━━━━━━━━━━━━━\u001b[0m\u001b[37m\u001b[0m \u001b[1m0s\u001b[0m 2ms/step - accuracy: 0.9720 - loss: 0.1981 \n",
            "Epoch 14/15\n",
            "\u001b[1m8/8\u001b[0m \u001b[32m━━━━━━━━━━━━━━━━━━━━\u001b[0m\u001b[37m\u001b[0m \u001b[1m0s\u001b[0m 2ms/step - accuracy: 0.9887 - loss: 0.1626 \n",
            "Epoch 15/15\n",
            "\u001b[1m8/8\u001b[0m \u001b[32m━━━━━━━━━━━━━━━━━━━━\u001b[0m\u001b[37m\u001b[0m \u001b[1m0s\u001b[0m 2ms/step - accuracy: 0.9921 - loss: 0.1452 \n"
          ]
        },
        {
          "output_type": "execute_result",
          "data": {
            "text/plain": [
              "<keras.src.callbacks.history.History at 0x7e12fe9dc3a0>"
            ]
          },
          "metadata": {},
          "execution_count": 44
        }
      ],
      "source": [
        "# Train the model\n",
        "model.compile(optimizer='adam',\n",
        "              loss=tf.keras.losses.CategoricalCrossentropy(from_logits=True),\n",
        "              metrics=['accuracy'])\n",
        "\n",
        "model.fit(x_train_final, y_train_one_hot, epochs=15, batch_size=32)"
      ]
    },
    {
      "cell_type": "code",
      "execution_count": null,
      "metadata": {
        "colab": {
          "base_uri": "https://localhost:8080/",
          "height": 247
        },
        "id": "9K5cHadR-nrl",
        "outputId": "87d35f47-1ee3-4051-c001-e197e7594026"
      },
      "outputs": [
        {
          "output_type": "display_data",
          "data": {
            "text/plain": [
              "\u001b[1mModel: \"sequential_3\"\u001b[0m\n"
            ],
            "text/html": [
              "<pre style=\"white-space:pre;overflow-x:auto;line-height:normal;font-family:Menlo,'DejaVu Sans Mono',consolas,'Courier New',monospace\"><span style=\"font-weight: bold\">Model: \"sequential_3\"</span>\n",
              "</pre>\n"
            ]
          },
          "metadata": {}
        },
        {
          "output_type": "display_data",
          "data": {
            "text/plain": [
              "┏━━━━━━━━━━━━━━━━━━━━━━━━━━━━━━━━━━━━━━┳━━━━━━━━━━━━━━━━━━━━━━━━━━━━━┳━━━━━━━━━━━━━━━━━┓\n",
              "┃\u001b[1m \u001b[0m\u001b[1mLayer (type)                        \u001b[0m\u001b[1m \u001b[0m┃\u001b[1m \u001b[0m\u001b[1mOutput Shape               \u001b[0m\u001b[1m \u001b[0m┃\u001b[1m \u001b[0m\u001b[1m        Param #\u001b[0m\u001b[1m \u001b[0m┃\n",
              "┡━━━━━━━━━━━━━━━━━━━━━━━━━━━━━━━━━━━━━━╇━━━━━━━━━━━━━━━━━━━━━━━━━━━━━╇━━━━━━━━━━━━━━━━━┩\n",
              "│ dense_9 (\u001b[38;5;33mDense\u001b[0m)                      │ (\u001b[38;5;45mNone\u001b[0m, \u001b[38;5;34m64\u001b[0m)                  │           \u001b[38;5;34m4,416\u001b[0m │\n",
              "├──────────────────────────────────────┼─────────────────────────────┼─────────────────┤\n",
              "│ dense_10 (\u001b[38;5;33mDense\u001b[0m)                     │ (\u001b[38;5;45mNone\u001b[0m, \u001b[38;5;34m64\u001b[0m)                  │           \u001b[38;5;34m4,160\u001b[0m │\n",
              "├──────────────────────────────────────┼─────────────────────────────┼─────────────────┤\n",
              "│ dense_11 (\u001b[38;5;33mDense\u001b[0m)                     │ (\u001b[38;5;45mNone\u001b[0m, \u001b[38;5;34m3\u001b[0m)                   │             \u001b[38;5;34m195\u001b[0m │\n",
              "└──────────────────────────────────────┴─────────────────────────────┴─────────────────┘\n"
            ],
            "text/html": [
              "<pre style=\"white-space:pre;overflow-x:auto;line-height:normal;font-family:Menlo,'DejaVu Sans Mono',consolas,'Courier New',monospace\">┏━━━━━━━━━━━━━━━━━━━━━━━━━━━━━━━━━━━━━━┳━━━━━━━━━━━━━━━━━━━━━━━━━━━━━┳━━━━━━━━━━━━━━━━━┓\n",
              "┃<span style=\"font-weight: bold\"> Layer (type)                         </span>┃<span style=\"font-weight: bold\"> Output Shape                </span>┃<span style=\"font-weight: bold\">         Param # </span>┃\n",
              "┡━━━━━━━━━━━━━━━━━━━━━━━━━━━━━━━━━━━━━━╇━━━━━━━━━━━━━━━━━━━━━━━━━━━━━╇━━━━━━━━━━━━━━━━━┩\n",
              "│ dense_9 (<span style=\"color: #0087ff; text-decoration-color: #0087ff\">Dense</span>)                      │ (<span style=\"color: #00d7ff; text-decoration-color: #00d7ff\">None</span>, <span style=\"color: #00af00; text-decoration-color: #00af00\">64</span>)                  │           <span style=\"color: #00af00; text-decoration-color: #00af00\">4,416</span> │\n",
              "├──────────────────────────────────────┼─────────────────────────────┼─────────────────┤\n",
              "│ dense_10 (<span style=\"color: #0087ff; text-decoration-color: #0087ff\">Dense</span>)                     │ (<span style=\"color: #00d7ff; text-decoration-color: #00d7ff\">None</span>, <span style=\"color: #00af00; text-decoration-color: #00af00\">64</span>)                  │           <span style=\"color: #00af00; text-decoration-color: #00af00\">4,160</span> │\n",
              "├──────────────────────────────────────┼─────────────────────────────┼─────────────────┤\n",
              "│ dense_11 (<span style=\"color: #0087ff; text-decoration-color: #0087ff\">Dense</span>)                     │ (<span style=\"color: #00d7ff; text-decoration-color: #00d7ff\">None</span>, <span style=\"color: #00af00; text-decoration-color: #00af00\">3</span>)                   │             <span style=\"color: #00af00; text-decoration-color: #00af00\">195</span> │\n",
              "└──────────────────────────────────────┴─────────────────────────────┴─────────────────┘\n",
              "</pre>\n"
            ]
          },
          "metadata": {}
        },
        {
          "output_type": "display_data",
          "data": {
            "text/plain": [
              "\u001b[1m Total params: \u001b[0m\u001b[38;5;34m26,315\u001b[0m (102.80 KB)\n"
            ],
            "text/html": [
              "<pre style=\"white-space:pre;overflow-x:auto;line-height:normal;font-family:Menlo,'DejaVu Sans Mono',consolas,'Courier New',monospace\"><span style=\"font-weight: bold\"> Total params: </span><span style=\"color: #00af00; text-decoration-color: #00af00\">26,315</span> (102.80 KB)\n",
              "</pre>\n"
            ]
          },
          "metadata": {}
        },
        {
          "output_type": "display_data",
          "data": {
            "text/plain": [
              "\u001b[1m Trainable params: \u001b[0m\u001b[38;5;34m8,771\u001b[0m (34.26 KB)\n"
            ],
            "text/html": [
              "<pre style=\"white-space:pre;overflow-x:auto;line-height:normal;font-family:Menlo,'DejaVu Sans Mono',consolas,'Courier New',monospace\"><span style=\"font-weight: bold\"> Trainable params: </span><span style=\"color: #00af00; text-decoration-color: #00af00\">8,771</span> (34.26 KB)\n",
              "</pre>\n"
            ]
          },
          "metadata": {}
        },
        {
          "output_type": "display_data",
          "data": {
            "text/plain": [
              "\u001b[1m Non-trainable params: \u001b[0m\u001b[38;5;34m0\u001b[0m (0.00 B)\n"
            ],
            "text/html": [
              "<pre style=\"white-space:pre;overflow-x:auto;line-height:normal;font-family:Menlo,'DejaVu Sans Mono',consolas,'Courier New',monospace\"><span style=\"font-weight: bold\"> Non-trainable params: </span><span style=\"color: #00af00; text-decoration-color: #00af00\">0</span> (0.00 B)\n",
              "</pre>\n"
            ]
          },
          "metadata": {}
        },
        {
          "output_type": "display_data",
          "data": {
            "text/plain": [
              "\u001b[1m Optimizer params: \u001b[0m\u001b[38;5;34m17,544\u001b[0m (68.54 KB)\n"
            ],
            "text/html": [
              "<pre style=\"white-space:pre;overflow-x:auto;line-height:normal;font-family:Menlo,'DejaVu Sans Mono',consolas,'Courier New',monospace\"><span style=\"font-weight: bold\"> Optimizer params: </span><span style=\"color: #00af00; text-decoration-color: #00af00\">17,544</span> (68.54 KB)\n",
              "</pre>\n"
            ]
          },
          "metadata": {}
        }
      ],
      "source": [
        "model.summary()"
      ]
    },
    {
      "cell_type": "code",
      "execution_count": null,
      "metadata": {
        "colab": {
          "base_uri": "https://localhost:8080/"
        },
        "id": "EO2wQURS9p7J",
        "outputId": "0114d633-9da5-40e4-96a2-c653e0737742"
      },
      "outputs": [
        {
          "output_type": "stream",
          "name": "stdout",
          "text": [
            "x_test_scaled shape: (75, 13)\n",
            "x_test_encoded shape: (75, 55)\n",
            "x_test_final shape: (75, 68)\n"
          ]
        }
      ],
      "source": [
        "print(\"x_test_scaled shape:\", x_test_scaled.shape)\n",
        "print(\"x_test_encoded shape:\", x_test_encoded.shape)\n",
        "print(\"x_test_final shape:\", x_test_final.shape)"
      ]
    },
    {
      "cell_type": "code",
      "execution_count": null,
      "metadata": {
        "colab": {
          "base_uri": "https://localhost:8080/"
        },
        "id": "4L1SRGAZ9qbd",
        "outputId": "fa3c76d3-4117-4601-ba6c-1cd85a601867"
      },
      "outputs": [
        {
          "output_type": "stream",
          "name": "stdout",
          "text": [
            "\u001b[1m3/3\u001b[0m \u001b[32m━━━━━━━━━━━━━━━━━━━━\u001b[0m\u001b[37m\u001b[0m \u001b[1m0s\u001b[0m 4ms/step - accuracy: 0.9076 - loss: 0.3010  \n",
            "Loss: 0.3209676444530487\n",
            "Accuracy: 0.8933333158493042\n"
          ]
        }
      ],
      "source": [
        "# Adjust the input dimensions for evaluation data\n",
        "x_test_final = np.pad(x_test_final, ((0, 0), (0, max_input_dim - x_test_final.shape[1])), mode='constant')\n",
        "\n",
        "# Evaluate Model\n",
        "loss, accuracy = model.evaluate(x_test_final, y_test_one_hot)\n",
        "print(\"Loss:\", loss)\n",
        "print(\"Accuracy:\", accuracy)\n"
      ]
    },
    {
      "cell_type": "code",
      "execution_count": null,
      "metadata": {
        "colab": {
          "base_uri": "https://localhost:8080/",
          "height": 1000
        },
        "id": "fbUDb3gpBrgK",
        "outputId": "24e18cc1-d139-4095-d1c1-c012fc634948"
      },
      "outputs": [
        {
          "output_type": "stream",
          "name": "stdout",
          "text": [
            "Epoch 1/15\n",
            "\u001b[1m8/8\u001b[0m \u001b[32m━━━━━━━━━━━━━━━━━━━━\u001b[0m\u001b[37m\u001b[0m \u001b[1m0s\u001b[0m 13ms/step - accuracy: 0.9652 - loss: 0.1601 - val_accuracy: 0.8667 - val_loss: 0.3246\n",
            "Epoch 2/15\n",
            "\u001b[1m8/8\u001b[0m \u001b[32m━━━━━━━━━━━━━━━━━━━━\u001b[0m\u001b[37m\u001b[0m \u001b[1m0s\u001b[0m 8ms/step - accuracy: 0.9885 - loss: 0.1237 - val_accuracy: 0.8667 - val_loss: 0.3370\n",
            "Epoch 3/15\n",
            "\u001b[1m8/8\u001b[0m \u001b[32m━━━━━━━━━━━━━━━━━━━━\u001b[0m\u001b[37m\u001b[0m \u001b[1m0s\u001b[0m 8ms/step - accuracy: 0.9835 - loss: 0.1315 - val_accuracy: 0.8533 - val_loss: 0.3397\n",
            "Epoch 4/15\n",
            "\u001b[1m8/8\u001b[0m \u001b[32m━━━━━━━━━━━━━━━━━━━━\u001b[0m\u001b[37m\u001b[0m \u001b[1m0s\u001b[0m 6ms/step - accuracy: 0.9835 - loss: 0.1088 - val_accuracy: 0.8400 - val_loss: 0.3411\n",
            "Epoch 5/15\n",
            "\u001b[1m8/8\u001b[0m \u001b[32m━━━━━━━━━━━━━━━━━━━━\u001b[0m\u001b[37m\u001b[0m \u001b[1m0s\u001b[0m 7ms/step - accuracy: 0.9864 - loss: 0.0933 - val_accuracy: 0.8267 - val_loss: 0.3654\n",
            "Epoch 6/15\n",
            "\u001b[1m8/8\u001b[0m \u001b[32m━━━━━━━━━━━━━━━━━━━━\u001b[0m\u001b[37m\u001b[0m \u001b[1m0s\u001b[0m 7ms/step - accuracy: 0.9862 - loss: 0.0876 - val_accuracy: 0.8400 - val_loss: 0.3601\n",
            "Epoch 7/15\n",
            "\u001b[1m8/8\u001b[0m \u001b[32m━━━━━━━━━━━━━━━━━━━━\u001b[0m\u001b[37m\u001b[0m \u001b[1m0s\u001b[0m 6ms/step - accuracy: 0.9873 - loss: 0.0775 - val_accuracy: 0.8533 - val_loss: 0.3401\n",
            "Epoch 8/15\n",
            "\u001b[1m8/8\u001b[0m \u001b[32m━━━━━━━━━━━━━━━━━━━━\u001b[0m\u001b[37m\u001b[0m \u001b[1m0s\u001b[0m 6ms/step - accuracy: 0.9952 - loss: 0.0744 - val_accuracy: 0.8400 - val_loss: 0.3416\n",
            "Epoch 9/15\n",
            "\u001b[1m8/8\u001b[0m \u001b[32m━━━━━━━━━━━━━━━━━━━━\u001b[0m\u001b[37m\u001b[0m \u001b[1m0s\u001b[0m 10ms/step - accuracy: 0.9972 - loss: 0.0712 - val_accuracy: 0.8400 - val_loss: 0.3708\n",
            "Epoch 10/15\n",
            "\u001b[1m8/8\u001b[0m \u001b[32m━━━━━━━━━━━━━━━━━━━━\u001b[0m\u001b[37m\u001b[0m \u001b[1m0s\u001b[0m 6ms/step - accuracy: 0.9835 - loss: 0.0642 - val_accuracy: 0.8267 - val_loss: 0.3720\n",
            "Epoch 11/15\n",
            "\u001b[1m8/8\u001b[0m \u001b[32m━━━━━━━━━━━━━━━━━━━━\u001b[0m\u001b[37m\u001b[0m \u001b[1m0s\u001b[0m 9ms/step - accuracy: 0.9864 - loss: 0.0564 - val_accuracy: 0.8400 - val_loss: 0.3523\n",
            "Epoch 12/15\n",
            "\u001b[1m8/8\u001b[0m \u001b[32m━━━━━━━━━━━━━━━━━━━━\u001b[0m\u001b[37m\u001b[0m \u001b[1m0s\u001b[0m 6ms/step - accuracy: 0.9972 - loss: 0.0472 - val_accuracy: 0.8533 - val_loss: 0.3380\n",
            "Epoch 13/15\n",
            "\u001b[1m8/8\u001b[0m \u001b[32m━━━━━━━━━━━━━━━━━━━━\u001b[0m\u001b[37m\u001b[0m \u001b[1m0s\u001b[0m 6ms/step - accuracy: 1.0000 - loss: 0.0520 - val_accuracy: 0.8533 - val_loss: 0.3359\n",
            "Epoch 14/15\n",
            "\u001b[1m8/8\u001b[0m \u001b[32m━━━━━━━━━━━━━━━━━━━━\u001b[0m\u001b[37m\u001b[0m \u001b[1m0s\u001b[0m 9ms/step - accuracy: 1.0000 - loss: 0.0441 - val_accuracy: 0.8267 - val_loss: 0.3667\n",
            "Epoch 15/15\n",
            "\u001b[1m8/8\u001b[0m \u001b[32m━━━━━━━━━━━━━━━━━━━━\u001b[0m\u001b[37m\u001b[0m \u001b[1m0s\u001b[0m 9ms/step - accuracy: 1.0000 - loss: 0.0466 - val_accuracy: 0.8133 - val_loss: 0.3715\n"
          ]
        },
        {
          "output_type": "display_data",
          "data": {
            "text/plain": [
              "<Figure size 640x480 with 1 Axes>"
            ],
            "image/png": "[encoded data removed]"
          },
          "metadata": {}
        },
        {
          "output_type": "display_data",
          "data": {
            "text/plain": [
              "<Figure size 640x480 with 1 Axes>"
            ],
            "image/png": "[encoded data removed]"
          },
          "metadata": {}
        }
      ],
      "source": [
        "import matplotlib.pyplot as plt\n",
        "\n",
        "# Train Model\n",
        "history = model.fit(x_train_final, y_train_one_hot, epochs=15, batch_size=32, validation_data=(x_test_final, y_test_one_hot))\n",
        "\n",
        "# Show plot loss\n",
        "plt.plot(history.history['loss'], label='Train Loss')\n",
        "plt.plot(history.history['val_loss'], label='Test Loss')\n",
        "plt.title('Model Loss')\n",
        "plt.xlabel('Epoch')\n",
        "plt.ylabel('Loss')\n",
        "plt.legend()\n",
        "plt.show()\n",
        "\n",
        "# Show plot accuracy\n",
        "plt.plot(history.history['accuracy'], label='Train Accuracy')\n",
        "plt.plot(history.history['val_accuracy'], label='Test Accuracy')\n",
        "plt.title('Model Accuracy')\n",
        "plt.xlabel('Epoch')\n",
        "plt.ylabel('Accuracy')\n",
        "plt.legend()\n",
        "plt.show()"
      ]
    },
    {
      "cell_type": "code",
      "execution_count": null,
      "metadata": {
        "colab": {
          "base_uri": "https://localhost:8080/"
        },
        "id": "hP5d2WVeFjKQ",
        "outputId": "fe204be3-d4fc-48f7-929e-85fca24a3050"
      },
      "outputs": [
        {
          "output_type": "stream",
          "name": "stdout",
          "text": [
            "\u001b[1m3/3\u001b[0m \u001b[32m━━━━━━━━━━━━━━━━━━━━\u001b[0m\u001b[37m\u001b[0m \u001b[1m0s\u001b[0m 21ms/step\n",
            "Actual Label: Stres Sedang\n",
            "Predicted Label: Stres Sedang\n",
            "\n",
            "Actual Label: Stres Berat\n",
            "Predicted Label: Stres Berat\n",
            "\n",
            "Actual Label: Stres Ringan\n",
            "Predicted Label: Stres Ringan\n",
            "\n",
            "Actual Label: Stres Sedang\n",
            "Predicted Label: Stres Sedang\n",
            "\n",
            "Actual Label: Stres Ringan\n",
            "Predicted Label: Stres Ringan\n",
            "\n",
            "Actual Label: Stres Berat\n",
            "Predicted Label: Stres Berat\n",
            "\n",
            "Actual Label: Stres Berat\n",
            "Predicted Label: Stres Berat\n",
            "\n",
            "Actual Label: Stres Berat\n",
            "Predicted Label: Stres Berat\n",
            "\n",
            "Actual Label: Stres Sedang\n",
            "Predicted Label: Stres Sedang\n",
            "\n",
            "Actual Label: Stres Sedang\n",
            "Predicted Label: Stres Sedang\n",
            "\n",
            "Actual Label: Stres Berat\n",
            "Predicted Label: Stres Sedang\n",
            "\n",
            "Actual Label: Stres Berat\n",
            "Predicted Label: Stres Ringan\n",
            "\n",
            "Actual Label: Stres Berat\n",
            "Predicted Label: Stres Berat\n",
            "\n",
            "Actual Label: Stres Sedang\n",
            "Predicted Label: Stres Sedang\n",
            "\n",
            "Actual Label: Stres Ringan\n",
            "Predicted Label: Stres Ringan\n",
            "\n",
            "Actual Label: Stres Ringan\n",
            "Predicted Label: Stres Ringan\n",
            "\n",
            "Actual Label: Stres Sedang\n",
            "Predicted Label: Stres Sedang\n",
            "\n",
            "Actual Label: Stres Berat\n",
            "Predicted Label: Stres Berat\n",
            "\n",
            "Actual Label: Stres Berat\n",
            "Predicted Label: Stres Berat\n",
            "\n",
            "Actual Label: Stres Berat\n",
            "Predicted Label: Stres Berat\n",
            "\n",
            "Actual Label: Stres Sedang\n",
            "Predicted Label: Stres Sedang\n",
            "\n",
            "Actual Label: Stres Berat\n",
            "Predicted Label: Stres Berat\n",
            "\n",
            "Actual Label: Stres Ringan\n",
            "Predicted Label: Stres Ringan\n",
            "\n",
            "Actual Label: Stres Berat\n",
            "Predicted Label: Stres Sedang\n",
            "\n",
            "Actual Label: Stres Sedang\n",
            "Predicted Label: Stres Sedang\n",
            "\n",
            "Actual Label: Stres Berat\n",
            "Predicted Label: Stres Berat\n",
            "\n",
            "Actual Label: Stres Ringan\n",
            "Predicted Label: Stres Ringan\n",
            "\n",
            "Actual Label: Stres Berat\n",
            "Predicted Label: Stres Ringan\n",
            "\n",
            "Actual Label: Stres Berat\n",
            "Predicted Label: Stres Ringan\n",
            "\n",
            "Actual Label: Stres Ringan\n",
            "Predicted Label: Stres Ringan\n",
            "\n",
            "Actual Label: Stres Ringan\n",
            "Predicted Label: Stres Ringan\n",
            "\n",
            "Actual Label: Stres Berat\n",
            "Predicted Label: Stres Berat\n",
            "\n",
            "Actual Label: Stres Ringan\n",
            "Predicted Label: Stres Ringan\n",
            "\n",
            "Actual Label: Stres Berat\n",
            "Predicted Label: Stres Ringan\n",
            "\n",
            "Actual Label: Stres Berat\n",
            "Predicted Label: Stres Berat\n",
            "\n",
            "Actual Label: Stres Berat\n",
            "Predicted Label: Stres Berat\n",
            "\n",
            "Actual Label: Stres Berat\n",
            "Predicted Label: Stres Berat\n",
            "\n",
            "Actual Label: Stres Berat\n",
            "Predicted Label: Stres Ringan\n",
            "\n",
            "Actual Label: Stres Berat\n",
            "Predicted Label: Stres Berat\n",
            "\n",
            "Actual Label: Stres Ringan\n",
            "Predicted Label: Stres Ringan\n",
            "\n",
            "Actual Label: Stres Berat\n",
            "Predicted Label: Stres Berat\n",
            "\n",
            "Actual Label: Stres Berat\n",
            "Predicted Label: Stres Berat\n",
            "\n",
            "Actual Label: Stres Berat\n",
            "Predicted Label: Stres Berat\n",
            "\n",
            "Actual Label: Stres Berat\n",
            "Predicted Label: Stres Ringan\n",
            "\n",
            "Actual Label: Stres Berat\n",
            "Predicted Label: Stres Berat\n",
            "\n",
            "Actual Label: Stres Berat\n",
            "Predicted Label: Stres Ringan\n",
            "\n",
            "Actual Label: Stres Berat\n",
            "Predicted Label: Stres Berat\n",
            "\n",
            "Actual Label: Stres Berat\n",
            "Predicted Label: Stres Berat\n",
            "\n",
            "Actual Label: Stres Berat\n",
            "Predicted Label: Stres Berat\n",
            "\n",
            "Actual Label: Stres Sedang\n",
            "Predicted Label: Stres Sedang\n",
            "\n",
            "Actual Label: Stres Berat\n",
            "Predicted Label: Stres Berat\n",
            "\n",
            "Actual Label: Stres Berat\n",
            "Predicted Label: Stres Berat\n",
            "\n",
            "Actual Label: Stres Berat\n",
            "Predicted Label: Stres Ringan\n",
            "\n",
            "Actual Label: Stres Sedang\n",
            "Predicted Label: Stres Sedang\n",
            "\n",
            "Actual Label: Stres Berat\n",
            "Predicted Label: Stres Berat\n",
            "\n",
            "Actual Label: Stres Berat\n",
            "Predicted Label: Stres Berat\n",
            "\n",
            "Actual Label: Stres Berat\n",
            "Predicted Label: Stres Berat\n",
            "\n",
            "Actual Label: Stres Sedang\n",
            "Predicted Label: Stres Sedang\n",
            "\n",
            "Actual Label: Stres Berat\n",
            "Predicted Label: Stres Berat\n",
            "\n",
            "Actual Label: Stres Berat\n",
            "Predicted Label: Stres Berat\n",
            "\n",
            "Actual Label: Stres Sedang\n",
            "Predicted Label: Stres Sedang\n",
            "\n",
            "Actual Label: Stres Berat\n",
            "Predicted Label: Stres Berat\n",
            "\n",
            "Actual Label: Stres Sedang\n",
            "Predicted Label: Stres Sedang\n",
            "\n",
            "Actual Label: Stres Sedang\n",
            "Predicted Label: Stres Sedang\n",
            "\n",
            "Actual Label: Stres Berat\n",
            "Predicted Label: Stres Ringan\n",
            "\n",
            "Actual Label: Stres Berat\n",
            "Predicted Label: Stres Berat\n",
            "\n",
            "Actual Label: Stres Sedang\n",
            "Predicted Label: Stres Sedang\n",
            "\n",
            "Actual Label: Stres Sedang\n",
            "Predicted Label: Stres Sedang\n",
            "\n",
            "Actual Label: Stres Berat\n",
            "Predicted Label: Stres Ringan\n",
            "\n",
            "Actual Label: Stres Sedang\n",
            "Predicted Label: Stres Sedang\n",
            "\n",
            "Actual Label: Stres Berat\n",
            "Predicted Label: Stres Ringan\n",
            "\n",
            "Actual Label: Stres Berat\n",
            "Predicted Label: Stres Berat\n",
            "\n",
            "Actual Label: Stres Sedang\n",
            "Predicted Label: Stres Sedang\n",
            "\n",
            "Actual Label: Stres Sedang\n",
            "Predicted Label: Stres Sedang\n",
            "\n",
            "Actual Label: Stres Ringan\n",
            "Predicted Label: Stres Ringan\n",
            "\n"
          ]
        }
      ],
      "source": [
        "import numpy as np\n",
        "\n",
        "# Dictionary untuk mengonversi nilai integer menjadi string\n",
        "label_dict = {0: 'Stres Ringan', 1: 'Stres Sedang', 2: 'Stres Berat'}\n",
        "\n",
        "# Memprediksi label pada data test\n",
        "y_pred_one_hot = model.predict(x_test_final)\n",
        "y_pred_labels = np.argmax(y_pred_one_hot, axis=1)\n",
        "y_pred_labels_str = [label_dict[label] for label in y_pred_labels]\n",
        "\n",
        "# Mengonversi one-hot encoded labels menjadi label asli\n",
        "y_test_labels = np.argmax(y_test_one_hot, axis=1)\n",
        "y_test_labels_str = [label_dict[label] for label in y_test_labels]\n",
        "\n",
        "# Membandingkan predicted labels dengan actual labels\n",
        "for i in range(len(y_pred_labels_str)):\n",
        "    print(\"Actual Label:\", y_test_labels_str[i])\n",
        "    print(\"Predicted Label:\", y_pred_labels_str[i])\n",
        "    print()"
      ]
    },
    {
      "cell_type": "code",
      "execution_count": null,
      "metadata": {
        "colab": {
          "base_uri": "https://localhost:8080/",
          "height": 72
        },
        "id": "9AbElAjYxMX6",
        "outputId": "b43a75ea-5dec-4106-9a5e-3cfcfa56d49f"
      },
      "outputs": [
        {
          "name": "stderr",
          "output_type": "stream",
          "text": [
            "WARNING:absl:Found untraced functions such as _update_step_xla while saving (showing 1 of 1). These functions will not be directly callable after loading.\n"
          ]
        },
        {
          "data": {
            "application/javascript": [
              "\n",
              "    async function download(id, filename, size) {\n",
              "      if (!google.colab.kernel.accessAllowed) {\n",
              "        return;\n",
              "      }\n",
              "      const div = document.createElement('div');\n",
              "      const label = document.createElement('label');\n",
              "      label.textContent = `Downloading \"${filename}\": `;\n",
              "      div.appendChild(label);\n",
              "      const progress = document.createElement('progress');\n",
              "      progress.max = size;\n",
              "      div.appendChild(progress);\n",
              "      document.body.appendChild(div);\n",
              "\n",
              "      const buffers = [];\n",
              "      let downloaded = 0;\n",
              "\n",
              "      const channel = await google.colab.kernel.comms.open(id);\n",
              "      // Send a message to notify the kernel that we're ready.\n",
              "      channel.send({})\n",
              "\n",
              "      for await (const message of channel.messages) {\n",
              "        // Send a message to notify the kernel that we're ready.\n",
              "        channel.send({})\n",
              "        if (message.buffers) {\n",
              "          for (const buffer of message.buffers) {\n",
              "            buffers.push(buffer);\n",
              "            downloaded += buffer.byteLength;\n",
              "            progress.value = downloaded;\n",
              "          }\n",
              "        }\n",
              "      }\n",
              "      const blob = new Blob(buffers, {type: 'application/binary'});\n",
              "      const a = document.createElement('a');\n",
              "      a.href = window.URL.createObjectURL(blob);\n",
              "      a.download = filename;\n",
              "      div.appendChild(a);\n",
              "      a.click();\n",
              "      div.remove();\n",
              "    }\n",
              "  "
            ],
            "text/plain": [
              "<IPython.core.display.Javascript object>"
            ]
          },
          "metadata": {},
          "output_type": "display_data"
        },
        {
          "data": {
            "application/javascript": [
              "download(\"download_d0b8b7ac-8a46-4cc6-9045-4fa246bcec21\", \"model.zip\", 37298)"
            ],
            "text/plain": [
              "<IPython.core.display.Javascript object>"
            ]
          },
          "metadata": {},
          "output_type": "display_data"
        }
      ],
      "source": [
        "import tensorflow as tf\n",
        "import os\n",
        "import zipfile\n",
        "\n",
        "# Assuming 'model' is your trained model\n",
        "model.save('model.h5')\n",
        "\n",
        "# Convert model to TensorFlow Lite format\n",
        "converter = tf.lite.TFLiteConverter.from_keras_model(model)\n",
        "tflite_model = converter.convert()\n",
        "\n",
        "# Save the TensorFlow Lite model to a file\n",
        "tflite_filename = 'model.tflite'\n",
        "with open(tflite_filename, 'wb') as f:\n",
        "    f.write(tflite_model)\n",
        "\n",
        "# Create a zip file\n",
        "zip_filename = 'model.zip'\n",
        "with zipfile.ZipFile(zip_filename, 'w') as zipf:\n",
        "    # Add the TensorFlow Lite model file to the zip\n",
        "    zipf.write(tflite_filename)\n",
        "\n",
        "# Download the zip file\n",
        "from google.colab import files\n",
        "files.download(zip_filename)\n"
      ]
    }
  ],
  "metadata": {
    "colab": {
      "provenance": []
    },
    "kernelspec": {
      "display_name": "Python 3",
      "name": "python3"
    },
    "language_info": {
      "name": "python"
    }
  },
  "nbformat": 4,
  "nbformat_minor": 0
}